{
  "nbformat": 4,
  "nbformat_minor": 0,
  "metadata": {
    "colab": {
      "name": "test de MaximumDeVraisemblance.ipynb",
      "provenance": [],
      "authorship_tag": "ABX9TyPq/aWmB3kyXWXMADGBkFTg",
      "include_colab_link": true
    },
    "kernelspec": {
      "name": "python3",
      "display_name": "Python 3"
    },
    "language_info": {
      "name": "python"
    }
  },
  "cells": [
    {
      "cell_type": "markdown",
      "metadata": {
        "id": "view-in-github",
        "colab_type": "text"
      },
      "source": [
        "<a href=\"https://colab.research.google.com/github/sl4iut3/python/blob/master/test_de_MaximumDeVraisemblance.ipynb\" target=\"_parent\"><img src=\"https://colab.research.google.com/assets/colab-badge.svg\" alt=\"Open In Colab\"/></a>"
      ]
    },
    {
      "cell_type": "markdown",
      "source": [
        "# Test du Maximum de vraisemblance sur différentes lois statistiques\n",
        "\n",
        "* $f_\\theta(x)$ représente la densité (fonction de probabilité ?) d'une variable aléatoire $X$ continue.\n",
        "* la vraisemblance de $\\theta$ est nommée $L$ et vaut pour expression : \n",
        "$$\n",
        "L(x_1,x_2, ...,x_n)=\\prod f(x_i;\\theta)\n",
        "$$ \n",
        "* maximiser cette vraisemblance $L$ revient à déterminer la condition sur $\\theta$ pour que : \n",
        "$$\n",
        "\\frac{∂ L}{∂ \\theta} = 0\\\\\n",
        "\\frac{∂^2 L}{∂ \\theta^2} < 0\n",
        "$$"
      ],
      "metadata": {
        "id": "cBUCc6juzcU-"
      }
    },
    {
      "cell_type": "markdown",
      "source": [
        "## Loi de Poisson\n",
        "\n",
        "$$ \n",
        "f(x,\\lambda)=\\exp(-\\lambda)\\frac{ \\lambda ^x}{x!}\n",
        "$$\n",
        "\n",
        "On peut montrer que l'estimateur du maximum de vraisemblance est la moyenne des $x_i=\\bar x$. "
      ],
      "metadata": {
        "id": "PrY8d-EN491d"
      }
    },
    {
      "cell_type": "code",
      "source": [
        "import numpy, random, math\n",
        "\n",
        "l = 0.5\n",
        "n=10000\n",
        "y=numpy.random.poisson(l,n)\n",
        "lest=numpy.mean(y)\n",
        "print(\"lambda estimé=\",lest,\" erreur=\",abs(l-lest),\" précision=\",100*abs(l-lest)/l, \"%\")"
      ],
      "metadata": {
        "colab": {
          "base_uri": "https://localhost:8080/"
        },
        "id": "b3pqmPJYEZC0",
        "outputId": "2a988cf0-5b59-42c0-feb5-74fda531a6f6"
      },
      "execution_count": 50,
      "outputs": [
        {
          "output_type": "stream",
          "name": "stdout",
          "text": [
            "lambda estimé= 0.508  erreur= 0.008000000000000007  précision= 1.6000000000000014 %\n"
          ]
        }
      ]
    },
    {
      "cell_type": "markdown",
      "source": [
        "## Loi exponentielle\n",
        "\n",
        "$$ \n",
        "f(x,\\alpha)=\\alpha*\\exp(-\\alpha x)~ pour ~x>0\n",
        "$$\n",
        "\n",
        "On peut montrer que l'estimateur du maximum de vraisemblance est l'inverse de la moyenne des $x_i$, c'est-à-dire $1/\\bar x$. "
      ],
      "metadata": {
        "id": "oJwBla8v_TZ_"
      }
    },
    {
      "cell_type": "code",
      "source": [
        "import numpy, random, math\n",
        "\n",
        "a = 0.5\n",
        "n=10000\n",
        "y=numpy.random.exponential(1/a,n)\n",
        "aest=1/numpy.mean(y)\n",
        "print(\"a estimé=\",aest,\" erreur=\",abs(a-aest),\" précision=\",100*abs(a-aest)/a, \"%\")"
      ],
      "metadata": {
        "colab": {
          "base_uri": "https://localhost:8080/"
        },
        "outputId": "19d5208d-cf5d-47ad-eabf-1feea3b6a4a9",
        "id": "SXxUwkkA_0l3"
      },
      "execution_count": 48,
      "outputs": [
        {
          "output_type": "stream",
          "name": "stdout",
          "text": [
            "a estimé= 0.5048455685934203  erreur= 0.004845568593420335  précision= 0.969113718684067 %\n"
          ]
        }
      ]
    },
    {
      "cell_type": "markdown",
      "source": [
        "## Loi normale\n",
        "\n",
        "$$ \n",
        "f(x,\\mu, \\sigma)=\\frac{1}{\\sigma 2\\pi}\\exp{(-\\frac{1}{2}\\frac{(x-\\mu)^2}{\\sigma ^2})}\n",
        "$$\n",
        "\n",
        "On peut montrer que les estimateurs du maximum de vraisemblance sont : \n",
        "$$\n",
        "\\begin{aligned}\n",
        "\\hat \\mu &= \\bar x\\\\\n",
        "\\hat \\sigma^2 &= \\overline{ (x-\\bar x)^2}\n",
        "\\end{aligned}\n",
        "$$ "
      ],
      "metadata": {
        "id": "faYXP4IOKLOd"
      }
    },
    {
      "cell_type": "code",
      "source": [
        "import numpy, math\n",
        "\n",
        "m=0.5\n",
        "s=1\n",
        "n=10000\n",
        "y=numpy.random.normal(m,s,n)\n",
        "mest=numpy.mean(y)\n",
        "sest=math.sqrt(numpy.mean((y-mest)**2))\n",
        "print(\"mu estimé=\",mest,\" erreur=\",abs(m-mest),\" précision=\",100*abs(m-mest)/m, \"%\")\n",
        "print(\"sigma estimé=\",sest,\" erreur=\",abs(s-sest),\" précision=\",100*abs(s-sest)/m, \"%\")"
      ],
      "metadata": {
        "colab": {
          "base_uri": "https://localhost:8080/"
        },
        "outputId": "ad7ceab9-ebb2-4577-b11a-f2a63160f38d",
        "id": "tkeMVsFaNEzJ"
      },
      "execution_count": 55,
      "outputs": [
        {
          "output_type": "stream",
          "name": "stdout",
          "text": [
            "mu estimé= 0.4902451050424892  erreur= 0.009754894957510807  précision= 1.9509789915021614 %\n",
            "sigma estimé= 1.000746518836191  erreur= 0.0007465188361910347  précision= 0.14930376723820693 %\n"
          ]
        }
      ]
    }
  ]
}